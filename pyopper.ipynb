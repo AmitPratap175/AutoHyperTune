{
  "nbformat": 4,
  "nbformat_minor": 0,
  "metadata": {
    "colab": {
      "provenance": [],
      "gpuType": "T4"
    },
    "kernelspec": {
      "name": "python3",
      "display_name": "Python 3"
    },
    "language_info": {
      "name": "python"
    },
    "widgets": {
      "application/vnd.jupyter.widget-state+json": {
        "48b2bf288486442097e408200cdcd0fe": {
          "model_module": "@jupyter-widgets/controls",
          "model_name": "HBoxModel",
          "model_module_version": "1.5.0",
          "state": {
            "_dom_classes": [],
            "_model_module": "@jupyter-widgets/controls",
            "_model_module_version": "1.5.0",
            "_model_name": "HBoxModel",
            "_view_count": null,
            "_view_module": "@jupyter-widgets/controls",
            "_view_module_version": "1.5.0",
            "_view_name": "HBoxView",
            "box_style": "",
            "children": [
              "IPY_MODEL_d0409ce4481c4b5eb03d429db67e7706",
              "IPY_MODEL_eaae07b72347478f8215edc0424bfa85",
              "IPY_MODEL_deb9340b0d4f43fc8e4f54d6a66a1797"
            ],
            "layout": "IPY_MODEL_f72fc762db0e49938744ce7c34d5c61a"
          }
        },
        "d0409ce4481c4b5eb03d429db67e7706": {
          "model_module": "@jupyter-widgets/controls",
          "model_name": "HTMLModel",
          "model_module_version": "1.5.0",
          "state": {
            "_dom_classes": [],
            "_model_module": "@jupyter-widgets/controls",
            "_model_module_version": "1.5.0",
            "_model_name": "HTMLModel",
            "_view_count": null,
            "_view_module": "@jupyter-widgets/controls",
            "_view_module_version": "1.5.0",
            "_view_name": "HTMLView",
            "description": "",
            "description_tooltip": null,
            "layout": "IPY_MODEL_1bf1310222f64cebbc2d0a445cae4baa",
            "placeholder": "​",
            "style": "IPY_MODEL_3170fb8de9b747859763c9feda670772",
            "value": "Best f: 29.3 (out of 6 params): 100%"
          }
        },
        "eaae07b72347478f8215edc0424bfa85": {
          "model_module": "@jupyter-widgets/controls",
          "model_name": "FloatProgressModel",
          "model_module_version": "1.5.0",
          "state": {
            "_dom_classes": [],
            "_model_module": "@jupyter-widgets/controls",
            "_model_module_version": "1.5.0",
            "_model_name": "FloatProgressModel",
            "_view_count": null,
            "_view_module": "@jupyter-widgets/controls",
            "_view_module_version": "1.5.0",
            "_view_name": "ProgressView",
            "bar_style": "success",
            "description": "",
            "description_tooltip": null,
            "layout": "IPY_MODEL_e837de4925fb40b9aa20e1f3392f8dbe",
            "max": 60,
            "min": 0,
            "orientation": "horizontal",
            "style": "IPY_MODEL_07b4309b91ff473ab1dd18085682969e",
            "value": 60
          }
        },
        "deb9340b0d4f43fc8e4f54d6a66a1797": {
          "model_module": "@jupyter-widgets/controls",
          "model_name": "HTMLModel",
          "model_module_version": "1.5.0",
          "state": {
            "_dom_classes": [],
            "_model_module": "@jupyter-widgets/controls",
            "_model_module_version": "1.5.0",
            "_model_name": "HTMLModel",
            "_view_count": null,
            "_view_module": "@jupyter-widgets/controls",
            "_view_module_version": "1.5.0",
            "_view_name": "HTMLView",
            "description": "",
            "description_tooltip": null,
            "layout": "IPY_MODEL_f597af915f3049949e2ab68df54aef81",
            "placeholder": "​",
            "style": "IPY_MODEL_c07c89290eb648cea9de0a2af3e40e3f",
            "value": " [00:53&lt;00:00, 0.1 param/s]"
          }
        },
        "f72fc762db0e49938744ce7c34d5c61a": {
          "model_module": "@jupyter-widgets/base",
          "model_name": "LayoutModel",
          "model_module_version": "1.2.0",
          "state": {
            "_model_module": "@jupyter-widgets/base",
            "_model_module_version": "1.2.0",
            "_model_name": "LayoutModel",
            "_view_count": null,
            "_view_module": "@jupyter-widgets/base",
            "_view_module_version": "1.2.0",
            "_view_name": "LayoutView",
            "align_content": null,
            "align_items": null,
            "align_self": null,
            "border": null,
            "bottom": null,
            "display": null,
            "flex": null,
            "flex_flow": null,
            "grid_area": null,
            "grid_auto_columns": null,
            "grid_auto_flow": null,
            "grid_auto_rows": null,
            "grid_column": null,
            "grid_gap": null,
            "grid_row": null,
            "grid_template_areas": null,
            "grid_template_columns": null,
            "grid_template_rows": null,
            "height": null,
            "justify_content": null,
            "justify_items": null,
            "left": null,
            "margin": null,
            "max_height": null,
            "max_width": null,
            "min_height": null,
            "min_width": null,
            "object_fit": null,
            "object_position": null,
            "order": null,
            "overflow": null,
            "overflow_x": null,
            "overflow_y": null,
            "padding": null,
            "right": null,
            "top": null,
            "visibility": null,
            "width": null
          }
        },
        "1bf1310222f64cebbc2d0a445cae4baa": {
          "model_module": "@jupyter-widgets/base",
          "model_name": "LayoutModel",
          "model_module_version": "1.2.0",
          "state": {
            "_model_module": "@jupyter-widgets/base",
            "_model_module_version": "1.2.0",
            "_model_name": "LayoutModel",
            "_view_count": null,
            "_view_module": "@jupyter-widgets/base",
            "_view_module_version": "1.2.0",
            "_view_name": "LayoutView",
            "align_content": null,
            "align_items": null,
            "align_self": null,
            "border": null,
            "bottom": null,
            "display": null,
            "flex": null,
            "flex_flow": null,
            "grid_area": null,
            "grid_auto_columns": null,
            "grid_auto_flow": null,
            "grid_auto_rows": null,
            "grid_column": null,
            "grid_gap": null,
            "grid_row": null,
            "grid_template_areas": null,
            "grid_template_columns": null,
            "grid_template_rows": null,
            "height": null,
            "justify_content": null,
            "justify_items": null,
            "left": null,
            "margin": null,
            "max_height": null,
            "max_width": null,
            "min_height": null,
            "min_width": null,
            "object_fit": null,
            "object_position": null,
            "order": null,
            "overflow": null,
            "overflow_x": null,
            "overflow_y": null,
            "padding": null,
            "right": null,
            "top": null,
            "visibility": null,
            "width": null
          }
        },
        "3170fb8de9b747859763c9feda670772": {
          "model_module": "@jupyter-widgets/controls",
          "model_name": "DescriptionStyleModel",
          "model_module_version": "1.5.0",
          "state": {
            "_model_module": "@jupyter-widgets/controls",
            "_model_module_version": "1.5.0",
            "_model_name": "DescriptionStyleModel",
            "_view_count": null,
            "_view_module": "@jupyter-widgets/base",
            "_view_module_version": "1.2.0",
            "_view_name": "StyleView",
            "description_width": ""
          }
        },
        "e837de4925fb40b9aa20e1f3392f8dbe": {
          "model_module": "@jupyter-widgets/base",
          "model_name": "LayoutModel",
          "model_module_version": "1.2.0",
          "state": {
            "_model_module": "@jupyter-widgets/base",
            "_model_module_version": "1.2.0",
            "_model_name": "LayoutModel",
            "_view_count": null,
            "_view_module": "@jupyter-widgets/base",
            "_view_module_version": "1.2.0",
            "_view_name": "LayoutView",
            "align_content": null,
            "align_items": null,
            "align_self": null,
            "border": null,
            "bottom": null,
            "display": null,
            "flex": null,
            "flex_flow": null,
            "grid_area": null,
            "grid_auto_columns": null,
            "grid_auto_flow": null,
            "grid_auto_rows": null,
            "grid_column": null,
            "grid_gap": null,
            "grid_row": null,
            "grid_template_areas": null,
            "grid_template_columns": null,
            "grid_template_rows": null,
            "height": null,
            "justify_content": null,
            "justify_items": null,
            "left": null,
            "margin": null,
            "max_height": null,
            "max_width": null,
            "min_height": null,
            "min_width": null,
            "object_fit": null,
            "object_position": null,
            "order": null,
            "overflow": null,
            "overflow_x": null,
            "overflow_y": null,
            "padding": null,
            "right": null,
            "top": null,
            "visibility": null,
            "width": null
          }
        },
        "07b4309b91ff473ab1dd18085682969e": {
          "model_module": "@jupyter-widgets/controls",
          "model_name": "ProgressStyleModel",
          "model_module_version": "1.5.0",
          "state": {
            "_model_module": "@jupyter-widgets/controls",
            "_model_module_version": "1.5.0",
            "_model_name": "ProgressStyleModel",
            "_view_count": null,
            "_view_module": "@jupyter-widgets/base",
            "_view_module_version": "1.2.0",
            "_view_name": "StyleView",
            "bar_color": null,
            "description_width": ""
          }
        },
        "f597af915f3049949e2ab68df54aef81": {
          "model_module": "@jupyter-widgets/base",
          "model_name": "LayoutModel",
          "model_module_version": "1.2.0",
          "state": {
            "_model_module": "@jupyter-widgets/base",
            "_model_module_version": "1.2.0",
            "_model_name": "LayoutModel",
            "_view_count": null,
            "_view_module": "@jupyter-widgets/base",
            "_view_module_version": "1.2.0",
            "_view_name": "LayoutView",
            "align_content": null,
            "align_items": null,
            "align_self": null,
            "border": null,
            "bottom": null,
            "display": null,
            "flex": null,
            "flex_flow": null,
            "grid_area": null,
            "grid_auto_columns": null,
            "grid_auto_flow": null,
            "grid_auto_rows": null,
            "grid_column": null,
            "grid_gap": null,
            "grid_row": null,
            "grid_template_areas": null,
            "grid_template_columns": null,
            "grid_template_rows": null,
            "height": null,
            "justify_content": null,
            "justify_items": null,
            "left": null,
            "margin": null,
            "max_height": null,
            "max_width": null,
            "min_height": null,
            "min_width": null,
            "object_fit": null,
            "object_position": null,
            "order": null,
            "overflow": null,
            "overflow_x": null,
            "overflow_y": null,
            "padding": null,
            "right": null,
            "top": null,
            "visibility": null,
            "width": null
          }
        },
        "c07c89290eb648cea9de0a2af3e40e3f": {
          "model_module": "@jupyter-widgets/controls",
          "model_name": "DescriptionStyleModel",
          "model_module_version": "1.5.0",
          "state": {
            "_model_module": "@jupyter-widgets/controls",
            "_model_module_version": "1.5.0",
            "_model_name": "DescriptionStyleModel",
            "_view_count": null,
            "_view_module": "@jupyter-widgets/base",
            "_view_module_version": "1.2.0",
            "_view_name": "StyleView",
            "description_width": ""
          }
        }
      }
    },
    "accelerator": "GPU"
  },
  "cells": [
    {
      "cell_type": "markdown",
      "metadata": {
        "id": "vaEWoZlq7YQm"
      },
      "source": [
        "# PyHopper Tutorial\n",
        "\n",
        "Here, we demonstrate a simple end-to-end example of how we can use PyHopper to find well-working hyperparameters of a machine learning model."
      ]
    },
    {
      "cell_type": "code",
      "metadata": {
        "colab": {
          "base_uri": "https://localhost:8080/"
        },
        "id": "JtrkPb7F7A5N",
        "outputId": "f9e8d8e2-da72-47f7-971b-faa3ebe2ebca"
      },
      "source": [
        "# We need to install hyhopper in our colab environment\n",
        "!pip3 install -U pyhopper"
      ],
      "execution_count": 1,
      "outputs": [
        {
          "output_type": "stream",
          "name": "stdout",
          "text": [
            "Collecting pyhopper\n",
            "  Downloading pyhopper-1.2.3-py3-none-any.whl.metadata (780 bytes)\n",
            "Requirement already satisfied: future in /usr/local/lib/python3.11/dist-packages (from pyhopper) (1.0.0)\n",
            "Requirement already satisfied: numpy in /usr/local/lib/python3.11/dist-packages (from pyhopper) (1.26.4)\n",
            "Requirement already satisfied: packaging in /usr/local/lib/python3.11/dist-packages (from pyhopper) (24.2)\n",
            "Requirement already satisfied: psutil in /usr/local/lib/python3.11/dist-packages (from pyhopper) (5.9.5)\n",
            "Requirement already satisfied: tqdm in /usr/local/lib/python3.11/dist-packages (from pyhopper) (4.67.1)\n",
            "Downloading pyhopper-1.2.3-py3-none-any.whl (45 kB)\n",
            "\u001b[2K   \u001b[90m━━━━━━━━━━━━━━━━━━━━━━━━━━━━━━━━━━━━━━━━\u001b[0m \u001b[32m46.0/46.0 kB\u001b[0m \u001b[31m2.9 MB/s\u001b[0m eta \u001b[36m0:00:00\u001b[0m\n",
            "\u001b[?25hInstalling collected packages: pyhopper\n",
            "Successfully installed pyhopper-1.2.3\n"
          ]
        }
      ]
    },
    {
      "cell_type": "code",
      "metadata": {
        "id": "G4KQrioQ7Sml"
      },
      "source": [
        "import tensorflow as tf\n",
        "import pyhopper"
      ],
      "execution_count": 2,
      "outputs": []
    },
    {
      "cell_type": "markdown",
      "metadata": {
        "id": "eq3QrA2EA4wz"
      },
      "source": [
        "First, we have to define our objective that Pyhopper should optimize"
      ]
    },
    {
      "cell_type": "code",
      "metadata": {
        "id": "RLPftpcB6WSv"
      },
      "source": [
        "from tensorflow.keras.layers import Dense, Dropout\n",
        "from tensorflow.keras.regularizers import L2\n",
        "from tensorflow.keras.optimizers import Adam\n",
        "\n",
        "def objective(hparams: dict) -> float:\n",
        "  # Our objective function gets the hyperparameters as a dictionary\n",
        "\n",
        "  (x_train, y_train), (x_val, y_val) =  tf.keras.datasets.boston_housing.load_data()\n",
        "\n",
        "  model = tf.keras.models.Sequential()\n",
        "  for i in range(hparams[\"num_layers\"]):\n",
        "    # Number of neurons, the activation function and L2 decay factor will be tuned\n",
        "    model.add(Dense(hparams[\"units\"],hparams[\"activation\"],kernel_regularizer=L2(hparams[\"l2_regularization\"])))\n",
        "    # Dropout rate as well\n",
        "    model.add(Dropout(hparams[\"dropout\"]))\n",
        "\n",
        "  # We need to add a final layer for making the prediction\n",
        "  model.add(Dense(1,kernel_regularizer=L2(hparams[\"l2_regularization\"])))\n",
        "\n",
        "  # Learning rate of our model will be optimized too\n",
        "  model.compile(optimizer=Adam(hparams[\"lr\"]),loss=\"mse\")\n",
        "\n",
        "  model.fit(x_train,y_train,batch_size=32,epochs=50,verbose=0)\n",
        "\n",
        "  # After training the model, we evaluate it on the validation set\n",
        "  # and use the validation loss as our objective score\n",
        "  return model.evaluate(x_val,y_val,verbose=0)\n"
      ],
      "execution_count": 3,
      "outputs": []
    },
    {
      "cell_type": "markdown",
      "metadata": {
        "id": "rV_zZNez2lZe"
      },
      "source": [
        "Next, we have to define the search space as a ```dict``` with three possible object types:\n",
        "\n",
        "- ```int```\n",
        "- ```float```\n",
        "- ```choice```\n",
        "\n",
        "We can restrict the search space by limiting the precision of the floats, using logarithmic sampling, and defining integers as powers easily."
      ]
    },
    {
      "cell_type": "code",
      "metadata": {
        "colab": {
          "base_uri": "https://localhost:8080/",
          "height": 277,
          "referenced_widgets": [
            "48b2bf288486442097e408200cdcd0fe",
            "d0409ce4481c4b5eb03d429db67e7706",
            "eaae07b72347478f8215edc0424bfa85",
            "deb9340b0d4f43fc8e4f54d6a66a1797",
            "f72fc762db0e49938744ce7c34d5c61a",
            "1bf1310222f64cebbc2d0a445cae4baa",
            "3170fb8de9b747859763c9feda670772",
            "e837de4925fb40b9aa20e1f3392f8dbe",
            "07b4309b91ff473ab1dd18085682969e",
            "f597af915f3049949e2ab68df54aef81",
            "c07c89290eb648cea9de0a2af3e40e3f"
          ]
        },
        "id": "-qmw9aiv78Yz",
        "outputId": "3d066b5c-062c-49f1-980a-bf7b391a2d48"
      },
      "source": [
        "search = pyhopper.Search(\n",
        "    {\n",
        "        \"num_layers\": pyhopper.int(0,4),\n",
        "        \"units\": pyhopper.int(64,512, power_of=2),\n",
        "        \"dropout\": pyhopper.float(0,0.4, \"0.1f\"),\n",
        "        \"activation\": pyhopper.choice([\"relu\",\"swish\",\"tanh\"]),\n",
        "        \"l2_regularization\": pyhopper.choice([0,1e-5,1e-4], is_ordinal=True),\n",
        "        \"lr\": pyhopper.float(1e-2,1e-4,\"0.1g\"),\n",
        "    }\n",
        ")\n",
        "\n",
        "# An run the optimization for 1 minute\n",
        "best_params = search.run(objective, \"minimize\", \"1min\",n_jobs=1)"
      ],
      "execution_count": 4,
      "outputs": [
        {
          "output_type": "display_data",
          "data": {
            "text/plain": [
              "  0%|          | [00:00<?]"
            ],
            "application/vnd.jupyter.widget-view+json": {
              "version_major": 2,
              "version_minor": 0,
              "model_id": "48b2bf288486442097e408200cdcd0fe"
            }
          },
          "metadata": {}
        },
        {
          "output_type": "stream",
          "name": "stdout",
          "text": [
            "Search is scheduled for 01:00 (m:s)\n",
            "Downloading data from https://storage.googleapis.com/tensorflow/tf-keras-datasets/boston_housing.npz\n",
            "\u001b[1m57026/57026\u001b[0m \u001b[32m━━━━━━━━━━━━━━━━━━━━\u001b[0m\u001b[37m\u001b[0m \u001b[1m0s\u001b[0m 1us/step\n",
            "================== Summary =================\n",
            "Mode              : Best f : Steps : Time   \n",
            "----------------  : ----   : ----  : ----   \n",
            "Initial solution  : 72.56  : 1     : 11.47 s\n",
            "Random seeding    : 50.1   : 1     : 9.39 s \n",
            "Local sampling    : 29.25  : 4     : 33 s   \n",
            "----------------  : ----   : ----  : ----   \n",
            "Total             : 29.25  : 6     : 54 s   \n",
            "============================================\n"
          ]
        }
      ]
    },
    {
      "cell_type": "markdown",
      "metadata": {
        "id": "LVM-xcjA3dua"
      },
      "source": [
        "```search.run``` returns the best hyperparameter candidates found during the entire process"
      ]
    },
    {
      "cell_type": "code",
      "metadata": {
        "colab": {
          "base_uri": "https://localhost:8080/"
        },
        "id": "_Qv2IT6s-D3K",
        "outputId": "d0b6d277-2801-4a13-d94e-5b6907b053e6"
      },
      "source": [
        "print(\"Best hpararam:\", best_params)"
      ],
      "execution_count": 5,
      "outputs": [
        {
          "output_type": "stream",
          "name": "stdout",
          "text": [
            "Best hpararam: {'num_layers': 2, 'units': 256, 'dropout': 0.3, 'activation': 'tanh', 'l2_regularization': 1e-05, 'lr': 0.0009}\n"
          ]
        }
      ]
    },
    {
      "cell_type": "markdown",
      "metadata": {
        "id": "KIVp-u0z3lfz"
      },
      "source": [
        "To gain some understanding of the hyperparameter sensitivity and objective surface, we can plot the evaluated scores over the runtime of the algorithm"
      ]
    },
    {
      "cell_type": "code",
      "metadata": {
        "colab": {
          "base_uri": "https://localhost:8080/",
          "height": 490
        },
        "id": "2hfhEoAD92t1",
        "outputId": "9e4ef77c-fede-4685-bc19-3201178a0d89"
      },
      "source": [
        "import matplotlib.pyplot as plt\n",
        "fig, ax = plt.subplots(figsize=(8, 5))\n",
        "ax.scatter(\n",
        "    x=search.history.steps,\n",
        "    y=search.history.fs,\n",
        "    label=\"Sampled\",\n",
        ")\n",
        "ax.plot(\n",
        "    search.history.steps,\n",
        "    search.history.best_fs,\n",
        "    color=\"red\",\n",
        "    label=\"Best so far\",\n",
        ")\n",
        "ax.set_xlim([0, len(search.history)])\n",
        "ax.set_ylim([0,150])\n",
        "ax.set_xlabel(\"Step\")\n",
        "ax.set_ylabel(\"Validation loss\")\n",
        "fig.legend(loc=\"upper right\")\n",
        "fig.tight_layout()\n",
        "fig.show()"
      ],
      "execution_count": 6,
      "outputs": [
        {
          "output_type": "display_data",
          "data": {
            "text/plain": [
              "<Figure size 800x500 with 1 Axes>"
            ],
            "image/png": "[encoded data removed]"
          },
          "metadata": {}
        }
      ]
    }
  ]
}